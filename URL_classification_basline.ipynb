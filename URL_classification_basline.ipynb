{
 "cells": [
  {
   "cell_type": "code",
   "execution_count": 34,
   "metadata": {},
   "outputs": [
    {
     "name": "stdout",
     "output_type": "stream",
     "text": [
      "Requirement already satisfied: tldextract in /opt/conda/lib/python3.8/site-packages (3.1.0)\n",
      "Requirement already satisfied: filelock>=3.0.8 in /opt/conda/lib/python3.8/site-packages (from tldextract) (3.0.12)\n",
      "Requirement already satisfied: requests>=2.1.0 in /opt/conda/lib/python3.8/site-packages (from tldextract) (2.25.1)\n",
      "Requirement already satisfied: requests-file>=1.4 in /opt/conda/lib/python3.8/site-packages (from tldextract) (1.5.1)\n",
      "Requirement already satisfied: idna in /opt/conda/lib/python3.8/site-packages (from tldextract) (2.10)\n",
      "Requirement already satisfied: certifi>=2017.4.17 in /opt/conda/lib/python3.8/site-packages (from requests>=2.1.0->tldextract) (2020.12.5)\n",
      "Requirement already satisfied: chardet<5,>=3.0.2 in /opt/conda/lib/python3.8/site-packages (from requests>=2.1.0->tldextract) (4.0.0)\n",
      "Requirement already satisfied: urllib3<1.27,>=1.21.1 in /opt/conda/lib/python3.8/site-packages (from requests>=2.1.0->tldextract) (1.26.2)\n",
      "Requirement already satisfied: six in /opt/conda/lib/python3.8/site-packages (from requests-file>=1.4->tldextract) (1.15.0)\n"
     ]
    }
   ],
   "source": [
    "! pip install tldextract\n"
   ]
  },
  {
   "cell_type": "code",
   "execution_count": 35,
   "metadata": {},
   "outputs": [],
   "source": [
    "import numpy as np\n",
    "import pandas as pd\n",
    "import ipaddress as ip\n",
    "from os.path import splitext\n",
    "from urllib.parse import urlparse\n",
    "from tqdm.notebook import tqdm\n",
    "import tldextract\n",
    "\n",
    "import matplotlib.pyplot as plt\n",
    "import pandas as pd\n",
    "import seaborn as sns"
   ]
  },
  {
   "cell_type": "markdown",
   "metadata": {},
   "source": [
    "load the data and change the label format to bool type"
   ]
  },
  {
   "cell_type": "code",
   "execution_count": 36,
   "metadata": {},
   "outputs": [],
   "source": [
    "train_df = pd.read_csv(\"/notebooks/security-engineering3/train_url.csv\")\n",
    "test_df = pd.read_csv(\"/notebooks/security-engineering3/test_url.csv\")\n",
    "\n",
    "y_train = np.array(train_df['Label'])\n",
    "y_train = np.where(y_train=='bad',\"0\", np.where(y_train=='good', \"1\", y_train))\n",
    "y_test = np.array(test_df['Label'])\n",
    "y_test = np.where(y_test=='bad',\"0\", np.where(y_test=='good', \"1\", y_test))"
   ]
  },
  {
   "cell_type": "code",
   "execution_count": 37,
   "metadata": {},
   "outputs": [
    {
     "data": {
      "application/vnd.jupyter.widget-view+json": {
       "model_id": "d05e93218d494606976afb91ac0cadc7",
       "version_major": 2,
       "version_minor": 0
      },
      "text/plain": [
       "  0%|          | 0/10000 [00:00<?, ?it/s]"
      ]
     },
     "metadata": {},
     "output_type": "display_data"
    },
    {
     "data": {
      "application/vnd.jupyter.widget-view+json": {
       "model_id": "2e3fa348f2a447d3a3fbec799825b7f3",
       "version_major": 2,
       "version_minor": 0
      },
      "text/plain": [
       "  0%|          | 0/40000 [00:00<?, ?it/s]"
      ]
     },
     "metadata": {},
     "output_type": "display_data"
    }
   ],
   "source": [
    "def delPath(url):\n",
    "    if ',' in url:\n",
    "        url = url.split(',')[0]\n",
    "    url = url.strip()\n",
    "    if url.startswith('http://') or url.startswith('https://'):\n",
    "        pass\n",
    "    else:\n",
    "        url = 'http://' + url\n",
    "    try:\n",
    "        parse = urlparse.urlparse(url)\n",
    "        url_new = parse.scheme + '://' + parse.netloc\n",
    "    except:\n",
    "        url_new = url\n",
    "    if url_new.endswith('.'):\n",
    "        url_new = url_new.rstrip('.')\n",
    "    return url_new\n",
    "for i in tqdm(range(len(test_df))):\n",
    "    test_df['URL'][i] = delPath(test_df['URL'][i])\n",
    "for i in tqdm(range(len(train_df))):\n",
    "    train_df['URL'][i] = delPath(train_df['URL'][i])"
   ]
  },
  {
   "cell_type": "code",
   "execution_count": 38,
   "metadata": {},
   "outputs": [
    {
     "data": {
      "text/html": [
       "<div>\n",
       "<style scoped>\n",
       "    .dataframe tbody tr th:only-of-type {\n",
       "        vertical-align: middle;\n",
       "    }\n",
       "\n",
       "    .dataframe tbody tr th {\n",
       "        vertical-align: top;\n",
       "    }\n",
       "\n",
       "    .dataframe thead th {\n",
       "        text-align: right;\n",
       "    }\n",
       "</style>\n",
       "<table border=\"1\" class=\"dataframe\">\n",
       "  <thead>\n",
       "    <tr style=\"text-align: right;\">\n",
       "      <th></th>\n",
       "      <th>URL</th>\n",
       "      <th>Label</th>\n",
       "    </tr>\n",
       "  </thead>\n",
       "  <tbody>\n",
       "    <tr>\n",
       "      <th>0</th>\n",
       "      <td>http://grandmaous.com/docx/index.php</td>\n",
       "      <td>bad</td>\n",
       "    </tr>\n",
       "    <tr>\n",
       "      <th>1</th>\n",
       "      <td>http://prettynicewebsite.com/746t3fg3</td>\n",
       "      <td>bad</td>\n",
       "    </tr>\n",
       "    <tr>\n",
       "      <th>2</th>\n",
       "      <td>http://'www.leisureideas.com/logic\\%20puzzles....</td>\n",
       "      <td>good</td>\n",
       "    </tr>\n",
       "    <tr>\n",
       "      <th>3</th>\n",
       "      <td>http://mediabistro.com/galleycat/carlo-deste-w...</td>\n",
       "      <td>good</td>\n",
       "    </tr>\n",
       "    <tr>\n",
       "      <th>4</th>\n",
       "      <td>http://sunjournal.com/funeral-services/story/1...</td>\n",
       "      <td>good</td>\n",
       "    </tr>\n",
       "  </tbody>\n",
       "</table>\n",
       "</div>"
      ],
      "text/plain": [
       "                                                 URL Label\n",
       "0               http://grandmaous.com/docx/index.php   bad\n",
       "1              http://prettynicewebsite.com/746t3fg3   bad\n",
       "2  http://'www.leisureideas.com/logic\\%20puzzles....  good\n",
       "3  http://mediabistro.com/galleycat/carlo-deste-w...  good\n",
       "4  http://sunjournal.com/funeral-services/story/1...  good"
      ]
     },
     "execution_count": 38,
     "metadata": {},
     "output_type": "execute_result"
    }
   ],
   "source": [
    "test_df.head()"
   ]
  },
  {
   "cell_type": "markdown",
   "metadata": {},
   "source": [
    "## Feature engineering"
   ]
  },
  {
   "cell_type": "code",
   "execution_count": 39,
   "metadata": {},
   "outputs": [],
   "source": [
    "def countdots(url):  \n",
    "    return url.count('.')\n",
    "\n",
    "def countdelim(url):\n",
    "    count = 0\n",
    "    delim=[';','_','?','=','&']\n",
    "    for each in url:\n",
    "        if each in delim:\n",
    "            count = count + 1  \n",
    "    return count\n",
    "\n",
    "def isip(url):\n",
    "    try:\n",
    "        if ip.ip_address(url):\n",
    "            return 1\n",
    "    except:\n",
    "        return 0\n",
    "    \n",
    "def isPresentHyphen(url):\n",
    "    return url.count('-')\n",
    "\n",
    "def isPresentAt(url):\n",
    "    return url.count('@')\n",
    "\n",
    "def isPresentUnderscore(url):\n",
    "    return url.count('_')\n",
    "\n",
    "def isPresentDSlash(url):\n",
    "    return url.count('//')\n",
    "\n",
    "def countSubDir(url):\n",
    "    return url.count('/')\n",
    "\n",
    "def get_ext(url):\n",
    "    root, ext = splitext(url)\n",
    "    return ext\n",
    "\n",
    "def countSubDomain(subdomain):\n",
    "    if not subdomain:\n",
    "        return 0\n",
    "    else:\n",
    "        return len(subdomain.split('.'))\n",
    "    \n",
    "def countQueries(query):\n",
    "    if not query:\n",
    "        return 0\n",
    "    else:\n",
    "        return len(query.split('&'))"
   ]
  },
  {
   "cell_type": "code",
   "execution_count": 40,
   "metadata": {},
   "outputs": [],
   "source": [
    "train_set = pd.DataFrame(columns=('url','no of dots','presence of hyphen','len of url','presence of at', \\\n",
    "'presence of double slash','no of subdir','no of subdomain','len of domain','no of queries','is IP'))\n",
    "\n",
    "test_set = pd.DataFrame(columns=('url','no of dots','presence of hyphen','len of url','presence of at', \\\n",
    "'presence of double slash','no of subdir','no of subdomain','len of domain','no of queries','is IP'))"
   ]
  },
  {
   "cell_type": "code",
   "execution_count": 41,
   "metadata": {},
   "outputs": [],
   "source": [
    "def getFeatures(url, label): \n",
    "    result = []\n",
    "    url = str(url)\n",
    "    \n",
    "    # add the url to feature set\n",
    "    result.append(url)\n",
    "    \n",
    "    # parse the URL and extract the domain information\n",
    "    try:\n",
    "        path = urlparse(url)\n",
    "        ext = tldextract.extract(url)\n",
    "    except ValueError as e:\n",
    "        pass\n",
    "\n",
    "\n",
    "    \n",
    "    # counting number of dots in subdomain    \n",
    "    result.append(countdots(url))\n",
    "    \n",
    "    # checking hyphen in domain   \n",
    "    result.append(isPresentHyphen(path.netloc))\n",
    "    \n",
    "    # length of URL    \n",
    "    result.append(len(url))\n",
    "    \n",
    "    # checking @ in the url    \n",
    "    result.append(isPresentAt(url))\n",
    "    \n",
    "    # checking _ in the url\n",
    "    #result.append(isPresentUnderscore(path.path))\n",
    "    \n",
    "    # checking presence of double slash    \n",
    "    result.append(isPresentDSlash(path.path))\n",
    "    \n",
    "    # Count number of subdir    \n",
    "    result.append(countSubDir(path.path))\n",
    "    \n",
    "    # number of sub domain    \n",
    "    result.append(countSubDomain(ext.subdomain))\n",
    "    \n",
    "    # length of domain name    \n",
    "    result.append(len(path.netloc))\n",
    "    \n",
    "    # count number of queries    \n",
    "    result.append(len(path.query))\n",
    "    \n",
    "    # Adding domain information\n",
    "    \n",
    "    # if IP address is being used as a URL     \n",
    "    result.append(isip(ext.domain))\n",
    "    \n",
    "    return result"
   ]
  },
  {
   "cell_type": "code",
   "execution_count": 42,
   "metadata": {},
   "outputs": [
    {
     "data": {
      "application/vnd.jupyter.widget-view+json": {
       "model_id": "f77e28fedb3c422d86b1845acf265110",
       "version_major": 2,
       "version_minor": 0
      },
      "text/plain": [
       "  0%|          | 0/40000 [00:00<?, ?it/s]"
      ]
     },
     "metadata": {},
     "output_type": "display_data"
    }
   ],
   "source": [
    "for i in tqdm(range(len(train_df))):\n",
    "    train_set.loc[i] = getFeatures(train_df[\"URL\"].loc[i], train_df[\"Label\"].loc[i])"
   ]
  },
  {
   "cell_type": "code",
   "execution_count": 43,
   "metadata": {},
   "outputs": [
    {
     "data": {
      "application/vnd.jupyter.widget-view+json": {
       "model_id": "636b8580efe943db834b68e2f8c156ed",
       "version_major": 2,
       "version_minor": 0
      },
      "text/plain": [
       "  0%|          | 0/10000 [00:00<?, ?it/s]"
      ]
     },
     "metadata": {},
     "output_type": "display_data"
    },
    {
     "name": "stdout",
     "output_type": "stream",
     "text": [
      "http://Æe\u001e",
      "F§÷%\u0011¶\u001c",
      "¿Õ½9¿b@Ö¸ÚZE¤ÒC¢ÄÅª2åç-]W³fU¤\u001e",
      "Jgkz.ø¿nJçå\u0014æu",
      "øD%@ðû\u000fÇùM¹u\u000b",
      "Ë\n"
     ]
    }
   ],
   "source": [
    "for i in tqdm(range(len(test_df))):\n",
    "    try:\n",
    "        test_set.loc[i] = getFeatures(test_df[\"URL\"].loc[i], test_df[\"Label\"].loc[i])\n",
    "    except UnboundLocalError as e:\n",
    "        print(str(test_df[\"URL\"].loc[i]))\n",
    "        test_set.loc[i] = getFeatures('http://facebook.com/martin.paul', test_df[\"Label\"].loc[i])"
   ]
  },
  {
   "cell_type": "code",
   "execution_count": 44,
   "metadata": {},
   "outputs": [
    {
     "data": {
      "text/html": [
       "<div>\n",
       "<style scoped>\n",
       "    .dataframe tbody tr th:only-of-type {\n",
       "        vertical-align: middle;\n",
       "    }\n",
       "\n",
       "    .dataframe tbody tr th {\n",
       "        vertical-align: top;\n",
       "    }\n",
       "\n",
       "    .dataframe thead th {\n",
       "        text-align: right;\n",
       "    }\n",
       "</style>\n",
       "<table border=\"1\" class=\"dataframe\">\n",
       "  <thead>\n",
       "    <tr style=\"text-align: right;\">\n",
       "      <th></th>\n",
       "      <th>url</th>\n",
       "      <th>no of dots</th>\n",
       "      <th>presence of hyphen</th>\n",
       "      <th>len of url</th>\n",
       "      <th>presence of at</th>\n",
       "      <th>presence of double slash</th>\n",
       "      <th>no of subdir</th>\n",
       "      <th>no of subdomain</th>\n",
       "      <th>len of domain</th>\n",
       "      <th>no of queries</th>\n",
       "      <th>is IP</th>\n",
       "    </tr>\n",
       "  </thead>\n",
       "  <tbody>\n",
       "    <tr>\n",
       "      <th>0</th>\n",
       "      <td>http://facebook.com/martin.paul</td>\n",
       "      <td>2</td>\n",
       "      <td>0</td>\n",
       "      <td>31</td>\n",
       "      <td>0</td>\n",
       "      <td>0</td>\n",
       "      <td>1</td>\n",
       "      <td>0</td>\n",
       "      <td>12</td>\n",
       "      <td>0</td>\n",
       "      <td>0</td>\n",
       "    </tr>\n",
       "    <tr>\n",
       "      <th>1</th>\n",
       "      <td>http://mikworks.com/originalwork/footballers/</td>\n",
       "      <td>1</td>\n",
       "      <td>0</td>\n",
       "      <td>45</td>\n",
       "      <td>0</td>\n",
       "      <td>0</td>\n",
       "      <td>3</td>\n",
       "      <td>0</td>\n",
       "      <td>12</td>\n",
       "      <td>0</td>\n",
       "      <td>0</td>\n",
       "    </tr>\n",
       "    <tr>\n",
       "      <th>2</th>\n",
       "      <td>http://upi.com/Top_News/US/2010/12/19/Transbay...</td>\n",
       "      <td>1</td>\n",
       "      <td>0</td>\n",
       "      <td>89</td>\n",
       "      <td>0</td>\n",
       "      <td>0</td>\n",
       "      <td>8</td>\n",
       "      <td>0</td>\n",
       "      <td>7</td>\n",
       "      <td>0</td>\n",
       "      <td>0</td>\n",
       "    </tr>\n",
       "    <tr>\n",
       "      <th>3</th>\n",
       "      <td>http://evri.com/person/thomas-dagworth-0x9f71d</td>\n",
       "      <td>1</td>\n",
       "      <td>0</td>\n",
       "      <td>46</td>\n",
       "      <td>0</td>\n",
       "      <td>0</td>\n",
       "      <td>2</td>\n",
       "      <td>0</td>\n",
       "      <td>8</td>\n",
       "      <td>0</td>\n",
       "      <td>0</td>\n",
       "    </tr>\n",
       "    <tr>\n",
       "      <th>4</th>\n",
       "      <td>http://eastbay.citysearch.com/profile/1033557/...</td>\n",
       "      <td>3</td>\n",
       "      <td>0</td>\n",
       "      <td>80</td>\n",
       "      <td>0</td>\n",
       "      <td>0</td>\n",
       "      <td>4</td>\n",
       "      <td>1</td>\n",
       "      <td>22</td>\n",
       "      <td>0</td>\n",
       "      <td>0</td>\n",
       "    </tr>\n",
       "  </tbody>\n",
       "</table>\n",
       "</div>"
      ],
      "text/plain": [
       "                                                 url no of dots  \\\n",
       "0                    http://facebook.com/martin.paul          2   \n",
       "1      http://mikworks.com/originalwork/footballers/          1   \n",
       "2  http://upi.com/Top_News/US/2010/12/19/Transbay...          1   \n",
       "3     http://evri.com/person/thomas-dagworth-0x9f71d          1   \n",
       "4  http://eastbay.citysearch.com/profile/1033557/...          3   \n",
       "\n",
       "  presence of hyphen len of url presence of at presence of double slash  \\\n",
       "0                  0         31              0                        0   \n",
       "1                  0         45              0                        0   \n",
       "2                  0         89              0                        0   \n",
       "3                  0         46              0                        0   \n",
       "4                  0         80              0                        0   \n",
       "\n",
       "  no of subdir no of subdomain len of domain no of queries is IP  \n",
       "0            1               0            12             0     0  \n",
       "1            3               0            12             0     0  \n",
       "2            8               0             7             0     0  \n",
       "3            2               0             8             0     0  \n",
       "4            4               1            22             0     0  "
      ]
     },
     "execution_count": 44,
     "metadata": {},
     "output_type": "execute_result"
    }
   ],
   "source": [
    "train_set.head()"
   ]
  },
  {
   "cell_type": "code",
   "execution_count": 45,
   "metadata": {},
   "outputs": [
    {
     "data": {
      "text/html": [
       "<div>\n",
       "<style scoped>\n",
       "    .dataframe tbody tr th:only-of-type {\n",
       "        vertical-align: middle;\n",
       "    }\n",
       "\n",
       "    .dataframe tbody tr th {\n",
       "        vertical-align: top;\n",
       "    }\n",
       "\n",
       "    .dataframe thead th {\n",
       "        text-align: right;\n",
       "    }\n",
       "</style>\n",
       "<table border=\"1\" class=\"dataframe\">\n",
       "  <thead>\n",
       "    <tr style=\"text-align: right;\">\n",
       "      <th></th>\n",
       "      <th>url</th>\n",
       "      <th>no of dots</th>\n",
       "      <th>presence of hyphen</th>\n",
       "      <th>len of url</th>\n",
       "      <th>presence of at</th>\n",
       "      <th>presence of double slash</th>\n",
       "      <th>no of subdir</th>\n",
       "      <th>no of subdomain</th>\n",
       "      <th>len of domain</th>\n",
       "      <th>no of queries</th>\n",
       "      <th>is IP</th>\n",
       "    </tr>\n",
       "  </thead>\n",
       "  <tbody>\n",
       "    <tr>\n",
       "      <th>0</th>\n",
       "      <td>http://grandmaous.com/docx/index.php</td>\n",
       "      <td>2</td>\n",
       "      <td>0</td>\n",
       "      <td>36</td>\n",
       "      <td>0</td>\n",
       "      <td>0</td>\n",
       "      <td>2</td>\n",
       "      <td>0</td>\n",
       "      <td>14</td>\n",
       "      <td>0</td>\n",
       "      <td>0</td>\n",
       "    </tr>\n",
       "    <tr>\n",
       "      <th>1</th>\n",
       "      <td>http://prettynicewebsite.com/746t3fg3</td>\n",
       "      <td>1</td>\n",
       "      <td>0</td>\n",
       "      <td>37</td>\n",
       "      <td>0</td>\n",
       "      <td>0</td>\n",
       "      <td>1</td>\n",
       "      <td>0</td>\n",
       "      <td>21</td>\n",
       "      <td>0</td>\n",
       "      <td>0</td>\n",
       "    </tr>\n",
       "    <tr>\n",
       "      <th>2</th>\n",
       "      <td>http://'www.leisureideas.com/logic\\%20puzzles....</td>\n",
       "      <td>3</td>\n",
       "      <td>0</td>\n",
       "      <td>50</td>\n",
       "      <td>0</td>\n",
       "      <td>0</td>\n",
       "      <td>1</td>\n",
       "      <td>1</td>\n",
       "      <td>21</td>\n",
       "      <td>0</td>\n",
       "      <td>0</td>\n",
       "    </tr>\n",
       "    <tr>\n",
       "      <th>3</th>\n",
       "      <td>http://mediabistro.com/galleycat/carlo-deste-w...</td>\n",
       "      <td>1</td>\n",
       "      <td>0</td>\n",
       "      <td>151</td>\n",
       "      <td>0</td>\n",
       "      <td>0</td>\n",
       "      <td>2</td>\n",
       "      <td>0</td>\n",
       "      <td>15</td>\n",
       "      <td>0</td>\n",
       "      <td>0</td>\n",
       "    </tr>\n",
       "    <tr>\n",
       "      <th>4</th>\n",
       "      <td>http://sunjournal.com/funeral-services/story/1...</td>\n",
       "      <td>1</td>\n",
       "      <td>0</td>\n",
       "      <td>52</td>\n",
       "      <td>0</td>\n",
       "      <td>0</td>\n",
       "      <td>3</td>\n",
       "      <td>0</td>\n",
       "      <td>14</td>\n",
       "      <td>0</td>\n",
       "      <td>0</td>\n",
       "    </tr>\n",
       "  </tbody>\n",
       "</table>\n",
       "</div>"
      ],
      "text/plain": [
       "                                                 url no of dots  \\\n",
       "0               http://grandmaous.com/docx/index.php          2   \n",
       "1              http://prettynicewebsite.com/746t3fg3          1   \n",
       "2  http://'www.leisureideas.com/logic\\%20puzzles....          3   \n",
       "3  http://mediabistro.com/galleycat/carlo-deste-w...          1   \n",
       "4  http://sunjournal.com/funeral-services/story/1...          1   \n",
       "\n",
       "  presence of hyphen len of url presence of at presence of double slash  \\\n",
       "0                  0         36              0                        0   \n",
       "1                  0         37              0                        0   \n",
       "2                  0         50              0                        0   \n",
       "3                  0        151              0                        0   \n",
       "4                  0         52              0                        0   \n",
       "\n",
       "  no of subdir no of subdomain len of domain no of queries is IP  \n",
       "0            2               0            14             0     0  \n",
       "1            1               0            21             0     0  \n",
       "2            1               1            21             0     0  \n",
       "3            2               0            15             0     0  \n",
       "4            3               0            14             0     0  "
      ]
     },
     "execution_count": 45,
     "metadata": {},
     "output_type": "execute_result"
    }
   ],
   "source": [
    "test_set.head()"
   ]
  },
  {
   "cell_type": "markdown",
   "metadata": {},
   "source": [
    "## Statistic"
   ]
  },
  {
   "cell_type": "markdown",
   "metadata": {},
   "source": [
    "### IP address appears in domain\n",
    "The number of IP address appearing in domain field where URLs are normal"
   ]
  },
  {
   "cell_type": "code",
   "execution_count": 46,
   "metadata": {},
   "outputs": [
    {
     "data": {
      "text/plain": [
       "0    27978\n",
       "1        2\n",
       "Name: is IP, dtype: int64"
      ]
     },
     "execution_count": 46,
     "metadata": {},
     "output_type": "execute_result"
    }
   ],
   "source": [
    "train_set[y_train==\"1\"]['is IP'].value_counts()"
   ]
  },
  {
   "cell_type": "markdown",
   "metadata": {},
   "source": [
    "The number of IP address appearing in domain field where URLs are malicious"
   ]
  },
  {
   "cell_type": "code",
   "execution_count": 47,
   "metadata": {},
   "outputs": [
    {
     "data": {
      "text/plain": [
       "0    11417\n",
       "1      603\n",
       "Name: is IP, dtype: int64"
      ]
     },
     "execution_count": 47,
     "metadata": {},
     "output_type": "execute_result"
    }
   ],
   "source": [
    "train_set[y_train==\"0\"]['is IP'].value_counts()"
   ]
  },
  {
   "cell_type": "markdown",
   "metadata": {},
   "source": [
    "### The ”@” symbol in the URL"
   ]
  },
  {
   "cell_type": "markdown",
   "metadata": {},
   "source": [
    "The number of \"@\" appearing in domain field where URLs are normal"
   ]
  },
  {
   "cell_type": "code",
   "execution_count": 48,
   "metadata": {},
   "outputs": [
    {
     "data": {
      "text/plain": [
       "0    27966\n",
       "1       13\n",
       "6        1\n",
       "Name: presence of at, dtype: int64"
      ]
     },
     "execution_count": 48,
     "metadata": {},
     "output_type": "execute_result"
    }
   ],
   "source": [
    "train_set[y_train==\"1\"]['presence of at'].value_counts()"
   ]
  },
  {
   "cell_type": "markdown",
   "metadata": {},
   "source": [
    "The number of \"@\" appearing in domain field where URLs are malicious"
   ]
  },
  {
   "cell_type": "code",
   "execution_count": 49,
   "metadata": {},
   "outputs": [
    {
     "data": {
      "text/plain": [
       "0    11870\n",
       "1      146\n",
       "3        2\n",
       "2        2\n",
       "Name: presence of at, dtype: int64"
      ]
     },
     "execution_count": 49,
     "metadata": {},
     "output_type": "execute_result"
    }
   ],
   "source": [
    "train_set[y_train==\"0\"]['presence of at'].value_counts()"
   ]
  },
  {
   "cell_type": "code",
   "execution_count": 50,
   "metadata": {},
   "outputs": [
    {
     "data": {
      "text/plain": [
       "0    27979\n",
       "1        1\n",
       "Name: presence of double slash, dtype: int64"
      ]
     },
     "execution_count": 50,
     "metadata": {},
     "output_type": "execute_result"
    }
   ],
   "source": [
    "train_set[y_train==\"1\"]['presence of double slash'].value_counts()"
   ]
  },
  {
   "cell_type": "code",
   "execution_count": 51,
   "metadata": {},
   "outputs": [
    {
     "data": {
      "text/plain": [
       "0    11957\n",
       "1       61\n",
       "2        2\n",
       "Name: presence of double slash, dtype: int64"
      ]
     },
     "execution_count": 51,
     "metadata": {},
     "output_type": "execute_result"
    }
   ],
   "source": [
    "train_set[y_train==\"0\"]['presence of double slash'].value_counts()"
   ]
  },
  {
   "cell_type": "code",
   "execution_count": 52,
   "metadata": {},
   "outputs": [
    {
     "data": {
      "text/plain": [
       "0     10432\n",
       "1      1120\n",
       "2       179\n",
       "4       170\n",
       "3        64\n",
       "5        19\n",
       "6        14\n",
       "11        6\n",
       "7         5\n",
       "8         4\n",
       "9         3\n",
       "10        2\n",
       "14        1\n",
       "12        1\n",
       "Name: presence of hyphen, dtype: int64"
      ]
     },
     "execution_count": 52,
     "metadata": {},
     "output_type": "execute_result"
    }
   ],
   "source": [
    "train_set[y_train==\"0\"]['presence of hyphen'].value_counts()"
   ]
  },
  {
   "cell_type": "code",
   "execution_count": 53,
   "metadata": {},
   "outputs": [
    {
     "data": {
      "text/plain": [
       "0    26537\n",
       "1     1203\n",
       "2      193\n",
       "3       38\n",
       "5        4\n",
       "4        4\n",
       "8        1\n",
       "Name: presence of hyphen, dtype: int64"
      ]
     },
     "execution_count": 53,
     "metadata": {},
     "output_type": "execute_result"
    }
   ],
   "source": [
    "train_set[y_train==\"1\"]['presence of hyphen'].value_counts()"
   ]
  },
  {
   "cell_type": "markdown",
   "metadata": {},
   "source": [
    "## Visualization of some features"
   ]
  },
  {
   "cell_type": "code",
   "execution_count": 54,
   "metadata": {},
   "outputs": [
    {
     "data": {
      "image/png": "[encoded data removed]",
      "text/plain": [
       "<Figure size 432x288 with 1 Axes>"
      ]
     },
     "metadata": {
      "needs_background": "light"
     },
     "output_type": "display_data"
    }
   ],
   "source": [
    "a = train_set[y_train==\"1\"]['len of url']\n",
    "b = train_set[y_train==\"0\"]['len of url']\n",
    "plt.hist([a,b],color=['red','blue'],alpha=0.6,label=['Good URLs','Bad URLs'],bins=30,density=True,range=(0,400),rwidth=1)\n",
    "plt.title('Url Length Distribution')\n",
    "plt.legend(loc='upper right')\n",
    "plt.xlabel('Length of URL')\n",
    "plt.show()"
   ]
  },
  {
   "cell_type": "code",
   "execution_count": 55,
   "metadata": {},
   "outputs": [
    {
     "data": {
      "image/png": "[encoded data removed]",
      "text/plain": [
       "<Figure size 432x288 with 1 Axes>"
      ]
     },
     "metadata": {
      "needs_background": "light"
     },
     "output_type": "display_data"
    }
   ],
   "source": [
    "a = train_set[y_train==\"1\"]['no of dots']\n",
    "b = train_set[y_train==\"0\"]['no of dots']\n",
    "plt.hist([a,b],color=['red','blue'],alpha=0.6,label=['Good URLs','Bad URLs'],bins=30,density=True,rwidth=1)\n",
    "plt.legend(loc='upper right')\n",
    "plt.xlabel('Number of Dots')\n",
    "plt.title('Distribution of Number of Dots in URL')\n",
    "plt.xlim(0,20)\n",
    "plt.show()"
   ]
  },
  {
   "cell_type": "code",
   "execution_count": 56,
   "metadata": {},
   "outputs": [
    {
     "data": {
      "image/png": "[encoded data removed]",
      "text/plain": [
       "<Figure size 432x288 with 1 Axes>"
      ]
     },
     "metadata": {
      "needs_background": "light"
     },
     "output_type": "display_data"
    }
   ],
   "source": [
    "a = train_set[y_train==\"1\"]['no of subdomain']\n",
    "b = train_set[y_train==\"0\"]['no of subdomain']\n",
    "plt.hist([a,b],color=['red','blue'],alpha=0.6,label=['Good URLs','Bad URLs'],bins=30,density=True,rwidth=1)\n",
    "plt.legend(loc='upper right')\n",
    "plt.xlabel('Number of subdomain')\n",
    "plt.title('Distribution of Number of subdomain in URL')\n",
    "plt.xlim(0,20)\n",
    "plt.show()"
   ]
  },
  {
   "cell_type": "code",
   "execution_count": 57,
   "metadata": {},
   "outputs": [
    {
     "data": {
      "image/png": "[encoded data removed]",
      "text/plain": [
       "<Figure size 432x288 with 1 Axes>"
      ]
     },
     "metadata": {
      "needs_background": "light"
     },
     "output_type": "display_data"
    }
   ],
   "source": [
    "a = train_set[y_train==\"1\"]['presence of hyphen']\n",
    "b = train_set[y_train==\"0\"]['presence of hyphen']\n",
    "plt.hist([a,b],color=['red','blue'],alpha=0.6,label=['Good URLs','Bad URLs'],bins=30,density=True,rwidth=1)\n",
    "plt.legend(loc='upper right')\n",
    "plt.xlabel('Number of hyphen')\n",
    "plt.title('Distribution of Number of hyphen in URL')\n",
    "plt.xlim(0,12)\n",
    "plt.show()"
   ]
  },
  {
   "cell_type": "markdown",
   "metadata": {},
   "source": [
    "## Train and test"
   ]
  },
  {
   "cell_type": "code",
   "execution_count": 58,
   "metadata": {},
   "outputs": [],
   "source": [
    "import sklearn.ensemble as ensemble\n",
    "from sklearn import tree, linear_model\n",
    "from sklearn.feature_selection import SelectFromModel\n",
    "import joblib\n",
    "from sklearn.naive_bayes import GaussianNB\n",
    "from sklearn.metrics import confusion_matrix\n",
    "from sklearn.pipeline import make_pipeline\n",
    "from sklearn import preprocessing\n",
    "from sklearn import svm\n",
    "from sklearn.linear_model import LogisticRegression"
   ]
  },
  {
   "cell_type": "code",
   "execution_count": 59,
   "metadata": {},
   "outputs": [],
   "source": [
    "x_train = train_set.drop(['url'],axis=1).values\n",
    "x_test = test_set.drop(['url'],axis=1).values"
   ]
  },
  {
   "cell_type": "code",
   "execution_count": 60,
   "metadata": {},
   "outputs": [
    {
     "name": "stdout",
     "output_type": "stream",
     "text": [
      "The AdaBoost score is : 0.7843\n"
     ]
    }
   ],
   "source": [
    "AdaBoost = ensemble.AdaBoostClassifier(n_estimators=50)\n",
    "AdaBoost.fit(x_train, y_train)\n",
    "score = AdaBoost.score(x_test, y_test)\n",
    "print (\"The AdaBoost score is :\", score)"
   ]
  },
  {
   "cell_type": "code",
   "execution_count": 61,
   "metadata": {},
   "outputs": [
    {
     "name": "stdout",
     "output_type": "stream",
     "text": [
      "The Decision Tree score is : 0.7909\n"
     ]
    }
   ],
   "source": [
    "DecisionTree = tree.DecisionTreeClassifier(max_depth=10)\n",
    "DecisionTree.fit(x_train, y_train)\n",
    "score = DecisionTree.score(x_test, y_test)\n",
    "print (\"The Decision Tree score is :\", score)"
   ]
  },
  {
   "cell_type": "code",
   "execution_count": 62,
   "metadata": {},
   "outputs": [
    {
     "name": "stdout",
     "output_type": "stream",
     "text": [
      "The RandomForest score is : 0.8382\n"
     ]
    }
   ],
   "source": [
    "RandomForest = ensemble.RandomForestClassifier(n_estimators=50)\n",
    "RandomForest.fit(x_train, y_train)\n",
    "score = RandomForest.score(x_test, y_test)\n",
    "print (\"The RandomForest score is :\", score)"
   ]
  },
  {
   "cell_type": "code",
   "execution_count": 71,
   "metadata": {},
   "outputs": [
    {
     "data": {
      "text/plain": [
       "Text(0.5, 15.0, 'Predicted Class')"
      ]
     },
     "execution_count": 71,
     "metadata": {},
     "output_type": "execute_result"
    },
    {
     "data": {
      "image/png": "[encoded data removed]",
      "text/plain": [
       "<Figure size 432x288 with 2 Axes>"
      ]
     },
     "metadata": {
      "needs_background": "light"
     },
     "output_type": "display_data"
    }
   ],
   "source": [
    "from sklearn.metrics import confusion_matrix\n",
    "y_pred = RandomForest.predict(x_test)\n",
    "cm = confusion_matrix(y_test, y_pred)\n",
    "labels = ['Good', 'Bad']\n",
    "sns.heatmap(cm, xticklabels=labels, yticklabels=labels, annot=True, fmt=\"d\", cmap='Blues')\n",
    "plt.title(\"Confusion Matrix for Random Forest\" )\n",
    "plt.ylabel('True Class')\n",
    "plt.xlabel('Predicted Class')"
   ]
  },
  {
   "cell_type": "code",
   "execution_count": 74,
   "metadata": {},
   "outputs": [
    {
     "name": "stdout",
     "output_type": "stream",
     "text": [
      "2039 941 677 6343\n"
     ]
    }
   ],
   "source": [
    "tn, fp, fn, tp = cm.ravel()\n",
    "print(tn,fp,fn,tp)"
   ]
  },
  {
   "cell_type": "code",
   "execution_count": 77,
   "metadata": {},
   "outputs": [
    {
     "name": "stdout",
     "output_type": "stream",
     "text": [
      "True Positive Rate is: 0.9035612535612536\n",
      "False Positive Rate is: 0.3157718120805369\n"
     ]
    }
   ],
   "source": [
    "#TPR = TP/(TP+FN)\n",
    "#FPR = FP/(FP+TN)\n",
    "\n",
    "TPR = tp/(tp+fn);\n",
    "FPR = fp/(fp+tn);\n",
    "\n",
    "print(\"True Positive Rate is:\", TPR)\n",
    "print(\"False Positive Rate is:\",FPR)"
   ]
  }
 ],
 "metadata": {
  "kernelspec": {
   "display_name": "Python 3",
   "language": "python",
   "name": "python3"
  },
  "language_info": {
   "codemirror_mode": {
    "name": "ipython",
    "version": 3
   },
   "file_extension": ".py",
   "mimetype": "text/x-python",
   "name": "python",
   "nbconvert_exporter": "python",
   "pygments_lexer": "ipython3",
   "version": "3.8.6"
  }
 },
 "nbformat": 4,
 "nbformat_minor": 4
}
